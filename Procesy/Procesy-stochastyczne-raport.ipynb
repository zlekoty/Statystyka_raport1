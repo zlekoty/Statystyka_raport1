{
 "cells": [
  {
   "cell_type": "code",
   "execution_count": 1,
   "metadata": {},
   "outputs": [],
   "source": [
    "using Plots\n",
    "using Pickle\n",
    "using PyCall\n",
    "using StatsPlots\n",
    "using Distributions\n",
    "using BenchmarkTools\n",
    "using Statistics"
   ]
  },
  {
   "cell_type": "code",
   "execution_count": 2,
   "metadata": {},
   "outputs": [],
   "source": [
    "cd(\"Desktop/Procesy\")"
   ]
  },
  {
   "cell_type": "markdown",
   "metadata": {},
   "source": [
    "# Cele:\n",
    "\n",
    "## Zadanie 1\n",
    "\n",
    "1. Załaduj plik trajektorii.OK\n",
    "2. Znajdź rozkład zmiennej $X_i$.OK\n",
    "3. Znajdź intensywność $\\lambda$ jednorodengo procesu Poissona.OK\n",
    "4. Znajdź parametr wysokości premii $\\theta$. OK\n",
    "5. Wygeneruj 100 trajektorii procesu Ryzyka. OK\n",
    "6. Porównaj je z dostarczonymi plikami. OK \n",
    "7. Oblicz prawdopodobieństwo bankructwa dla skończonego czasu. OK\n",
    "8. Oblicz prawdopodobieństwo brankructwa dla nieskońcoznego czasu. OK"
   ]
  },
  {
   "cell_type": "markdown",
   "metadata": {},
   "source": [
    "### Zmienna losowa z rozkładu Poissona"
   ]
  },
  {
   "cell_type": "code",
   "execution_count": 3,
   "metadata": {},
   "outputs": [
    {
     "data": {
      "text/plain": [
       "poisson (generic function with 1 method)"
      ]
     },
     "execution_count": 3,
     "metadata": {},
     "output_type": "execute_result"
    }
   ],
   "source": [
    "function poisson(λ)\n",
    "    \n",
    "    i = 0\n",
    "    p = ℯ^(-λ)\n",
    "    F = p\n",
    "    \n",
    "    U = rand()\n",
    "    \n",
    "    while U>F\n",
    "        p *= λ/(i+1)\n",
    "        F += p\n",
    "        i += 1\n",
    "    end   \n",
    "        \n",
    "    return i\n",
    "    \n",
    "end"
   ]
  },
  {
   "cell_type": "markdown",
   "metadata": {},
   "source": [
    "### Próba losowa z rozkładu Poissona"
   ]
  },
  {
   "cell_type": "code",
   "execution_count": 4,
   "metadata": {},
   "outputs": [
    {
     "data": {
      "text/plain": [
       "upoisson (generic function with 2 methods)"
      ]
     },
     "execution_count": 4,
     "metadata": {},
     "output_type": "execute_result"
    }
   ],
   "source": [
    "function upoisson(λ, size=1)\n",
    "    \n",
    "    if size == 1\n",
    "        return poisson(λ)\n",
    "        \n",
    "    else\n",
    "        \n",
    "        Values = zeros(size)\n",
    "        \n",
    "        for index in 1:size\n",
    "            Values[index] = poisson(λ)\n",
    "        end\n",
    "    end\n",
    "    \n",
    "    return Values\n",
    "    \n",
    "end"
   ]
  },
  {
   "cell_type": "markdown",
   "metadata": {},
   "source": [
    "### Zmienna losowa z rozkładu wykładniczego"
   ]
  },
  {
   "cell_type": "markdown",
   "metadata": {},
   "source": [
    "#### Gęstość teoretyczna"
   ]
  },
  {
   "cell_type": "code",
   "execution_count": 5,
   "metadata": {},
   "outputs": [
    {
     "data": {
      "text/plain": [
       "pdfexponential (generic function with 1 method)"
      ]
     },
     "execution_count": 5,
     "metadata": {},
     "output_type": "execute_result"
    }
   ],
   "source": [
    "function pdfexponential(t, μ)\n",
    "    return μ*ℯ^(-t*μ)\n",
    "end"
   ]
  },
  {
   "cell_type": "markdown",
   "metadata": {},
   "source": [
    "#### Dystrybuanta teoretyczna"
   ]
  },
  {
   "cell_type": "code",
   "execution_count": 6,
   "metadata": {},
   "outputs": [
    {
     "data": {
      "text/plain": [
       "cdfexponential (generic function with 1 method)"
      ]
     },
     "execution_count": 6,
     "metadata": {},
     "output_type": "execute_result"
    }
   ],
   "source": [
    "function cdfexponential(t, μ)\n",
    "    return 1 - ℯ^(-t*μ)\n",
    "end"
   ]
  },
  {
   "cell_type": "markdown",
   "metadata": {},
   "source": [
    "#### Generator"
   ]
  },
  {
   "cell_type": "code",
   "execution_count": 7,
   "metadata": {},
   "outputs": [
    {
     "data": {
      "text/plain": [
       "exponential (generic function with 1 method)"
      ]
     },
     "execution_count": 7,
     "metadata": {},
     "output_type": "execute_result"
    }
   ],
   "source": [
    "function exponential(μ)\n",
    "    U = rand()\n",
    "    return -log(U)/μ\n",
    "end"
   ]
  },
  {
   "cell_type": "markdown",
   "metadata": {},
   "source": [
    "### Próba losowa z rozkładu wykładniczego"
   ]
  },
  {
   "cell_type": "code",
   "execution_count": 8,
   "metadata": {},
   "outputs": [
    {
     "data": {
      "text/plain": [
       "rexponential (generic function with 2 methods)"
      ]
     },
     "execution_count": 8,
     "metadata": {},
     "output_type": "execute_result"
    }
   ],
   "source": [
    "function rexponential(μ, size=1)\n",
    "    \n",
    "    if size == 0\n",
    "        return [0]\n",
    "    \n",
    "    elseif size == 1\n",
    "        return [exponential(μ)]\n",
    "        \n",
    "    else\n",
    "        \n",
    "        Values = zeros(size)\n",
    "        \n",
    "        for index in 1:size\n",
    "            Values[index] = exponential(μ)\n",
    "        end\n",
    "        \n",
    "    end\n",
    "   \n",
    "    return Values\n",
    "    \n",
    "end"
   ]
  },
  {
   "cell_type": "markdown",
   "metadata": {},
   "source": [
    "## Generator jednorodnego procesu Poissona z intensywnością $\\lambda$ na odcinku [0,T]"
   ]
  },
  {
   "cell_type": "markdown",
   "metadata": {},
   "source": [
    "### Wartość oczekiwana"
   ]
  },
  {
   "cell_type": "code",
   "execution_count": 9,
   "metadata": {},
   "outputs": [
    {
     "data": {
      "text/plain": [
       "Epoiss (generic function with 1 method)"
      ]
     },
     "execution_count": 9,
     "metadata": {},
     "output_type": "execute_result"
    }
   ],
   "source": [
    "function Epoiss(λ, t)\n",
    "    return λ*t\n",
    "end"
   ]
  },
  {
   "cell_type": "markdown",
   "metadata": {},
   "source": [
    "### Generator"
   ]
  },
  {
   "cell_type": "code",
   "execution_count": 10,
   "metadata": {},
   "outputs": [
    {
     "data": {
      "text/plain": [
       "poisson_process (generic function with 1 method)"
      ]
     },
     "execution_count": 10,
     "metadata": {},
     "output_type": "execute_result"
    }
   ],
   "source": [
    "function poisson_process(λ, T)\n",
    "    \n",
    "    I = poisson(λ*T)\n",
    "    \n",
    "    if I == 0\n",
    "        return [0]\n",
    "    \n",
    "    else\n",
    "        \n",
    "        U = zeros(I+1)\n",
    "        \n",
    "        for i in 2:I+1\n",
    "            U[i] = T*rand()\n",
    "        end\n",
    "    end\n",
    "    \n",
    "    return sort(U)\n",
    "end"
   ]
  },
  {
   "cell_type": "markdown",
   "metadata": {},
   "source": [
    "### Przykładowa trajektoria"
   ]
  },
  {
   "cell_type": "code",
   "execution_count": 11,
   "metadata": {},
   "outputs": [],
   "source": [
    "X = poisson_process(1, 100)\n",
    "Y = 1:length(X)\n",
    "\n",
    "plot(X, Y, \n",
    "    linetype=:steppost, \n",
    "    legend=:topleft, \n",
    "    label=\"trajektoria\", \n",
    "    ylabel=\"liczba skoków\", \n",
    "    xlabel=\"czas t\",\n",
    "    color =:blue)\n",
    "plot!([X[length(X)], 100], [Y[length(X)], Y[length(X)]], color =:blue, label=\"\")\n",
    "\n",
    "savefig(\"trajektoria_poissona.pdf\")"
   ]
  },
  {
   "cell_type": "markdown",
   "metadata": {},
   "source": [
    "### Sprawdzenie poprawności"
   ]
  },
  {
   "cell_type": "code",
   "execution_count": 12,
   "metadata": {},
   "outputs": [
    {
     "data": {
      "text/plain": [
       "100"
      ]
     },
     "execution_count": 12,
     "metadata": {},
     "output_type": "execute_result"
    }
   ],
   "source": [
    "λ = 1\n",
    "T = 100"
   ]
  },
  {
   "cell_type": "code",
   "execution_count": 13,
   "metadata": {},
   "outputs": [],
   "source": [
    "X = poisson_process(λ, T)\n",
    "Y = collect(1:length(X))\n",
    "\n",
    "plot(X, Y, linetype=:steppost, legend = false, color=:blue, label=\"wiązka trajektorii\")\n",
    "\n",
    "for i in 1:100\n",
    "    X = poisson_process(λ, T)\n",
    "    Y = collect(1:length(X))\n",
    "    \n",
    "    plt = plot!(X, Y, linetype=:steppost, color=:blue, label=\"\")\n",
    "\n",
    "end\n",
    "\n",
    "plt = plot!(0:T, x -> Epoiss(λ, x), color =:red, linewidth=3, xlabel=\"czas t\", ylabel=\"liczba skoków\", label=\"średnia procesu\")\n",
    "\n",
    "savefig(\"poprawność_poissona.pdf\")"
   ]
  },
  {
   "cell_type": "markdown",
   "metadata": {},
   "source": [
    "## Proces ryzyka"
   ]
  },
  {
   "cell_type": "markdown",
   "metadata": {},
   "source": [
    " Proces ryzyka to proces stochastyczny opisujący kapitał firmy ubezpieczeniowej. Wyraża się on wzorem\n",
    "\n",
    "## $$R(t) = u + c(t) - \\sum_{i}^{N(t)}X_i,$$\n",
    "\n",
    "gdzie: \n",
    "<li>$u>0$ - kapitał początkowy,\n",
    "<li>$c(t)$ - premia (przychody ze sprzedaży polis)\n",
    "<li>$N(t)$ - proces liczący straty\n",
    "<li>$X_i$ - zmienna losowa <i>i.i.d </i>, $EX_1 = \\mu$, $X_i >0$, reprezentatywna wartość wypłacanych odszkodowań."
   ]
  },
  {
   "cell_type": "markdown",
   "metadata": {},
   "source": [
    "## Pojedyncza trajektoria dla wybranych parametrów"
   ]
  },
  {
   "cell_type": "markdown",
   "metadata": {},
   "source": [
    "### parametry"
   ]
  },
  {
   "cell_type": "code",
   "execution_count": 14,
   "metadata": {},
   "outputs": [
    {
     "data": {
      "text/plain": [
       "0.01"
      ]
     },
     "execution_count": 14,
     "metadata": {},
     "output_type": "execute_result"
    }
   ],
   "source": [
    "u = 50 #kapitał początkowy\n",
    "θ = 0.5 #narzut\n",
    "μ = 1 #wartość oczekiwana zmiennej losowej X\n",
    "λ = 1 #intensywność procesu Poissona\n",
    "α = (1+θ)*μ*λ #stała w klasycznym procesie ryzyka\n",
    "c(t) = α*t #funkcja c(t) w klaysycznym procesie ryzyka\n",
    "T = 100 #Horyzont czasowy\n",
    "h = 0.01 #krok w symulacji"
   ]
  },
  {
   "cell_type": "markdown",
   "metadata": {},
   "source": [
    "### generator (klasyczny proces ryzyka z $X_i$ $\\sim$ $Exp(1/\\mu)$)"
   ]
  },
  {
   "cell_type": "code",
   "execution_count": 15,
   "metadata": {},
   "outputs": [
    {
     "data": {
      "text/plain": [
       "pay (generic function with 1 method)"
      ]
     },
     "execution_count": 15,
     "metadata": {},
     "output_type": "execute_result"
    }
   ],
   "source": [
    "function pay(Pays, index)\n",
    "    if index == 1\n",
    "        return 0\n",
    "    else\n",
    "        return sum(Pays[1:(index-1)])\n",
    "    end\n",
    "end"
   ]
  },
  {
   "cell_type": "code",
   "execution_count": 16,
   "metadata": {},
   "outputs": [
    {
     "data": {
      "text/plain": [
       "check (generic function with 1 method)"
      ]
     },
     "execution_count": 16,
     "metadata": {},
     "output_type": "execute_result"
    }
   ],
   "source": [
    "function check(Moments, Pays, t)\n",
    "    \n",
    "    j::Int = 1\n",
    "    k::Int = length(Moments)\n",
    "    \n",
    "    while j < k-1\n",
    "        \n",
    "        if t >= Moments[j] && t <= Moments[j+1]\n",
    "            return pay(Pays, j)\n",
    "        else\n",
    "            j += 1\n",
    "    \n",
    "        end\n",
    "   \n",
    "    end\n",
    "\n",
    "    return sum(Pays)\n",
    "    \n",
    "end\n",
    "            "
   ]
  },
  {
   "cell_type": "code",
   "execution_count": 17,
   "metadata": {},
   "outputs": [
    {
     "data": {
      "text/plain": [
       "risk_process (generic function with 1 method)"
      ]
     },
     "execution_count": 17,
     "metadata": {},
     "output_type": "execute_result"
    }
   ],
   "source": [
    "function risk_process(u::Real; θ::Float64=0.5, μ::Float64=1.0, λ::Float64=1.0, T::Int=100, h::Float64=0.01)\n",
    "    \n",
    "    N = poisson_process(λ, T) #momenty skoków\n",
    "    n = length(N)-1 #ilość skoków\n",
    "    Xs = rexponential(μ, n) #próba losowa z rozkładu wykładniczego - wypłaty odszkodowań\n",
    "    \n",
    "    size::Int = round(T/h)\n",
    "    R = zeros(size)\n",
    "    \n",
    "    t = 0\n",
    "    I = 1\n",
    "    J = 2\n",
    "    \n",
    "    α = (1+θ)*λ/μ\n",
    "    c(t, a) = α*t\n",
    "    \n",
    "    while t <= T\n",
    "        R[I] = u + c(t, α) - check(N, Xs, t)\n",
    "        t += h\n",
    "        I += 1\n",
    "        \n",
    "    end\n",
    "    \n",
    "    return R\n",
    "    \n",
    "end"
   ]
  },
  {
   "cell_type": "markdown",
   "metadata": {},
   "source": [
    "### Przykładowa trajektoria"
   ]
  },
  {
   "cell_type": "code",
   "execution_count": 18,
   "metadata": {},
   "outputs": [],
   "source": [
    "xs = 0:h:T-h\n",
    "ys = risk_process(100, λ=0.7, μ=0.2)\n",
    "\n",
    "plot(xs,\n",
    "    ys,\n",
    "    xlabel=\"Czas t\",\n",
    "    ylabel=\"Kapitał firmy ubezpieczeniowej\",\n",
    "    color =:blue,\n",
    "    legend=:false)\n",
    "\n",
    "savefig(\"trajektoria_ryzyka.pdf\")"
   ]
  },
  {
   "cell_type": "markdown",
   "metadata": {},
   "source": [
    "### Oszacowanie parametru $\\lambda$\n",
    "\n",
    "Pomysł: Jeśli $N(t)$ to jednorododny proces Poissona z parametrem intensywności $\\lambda$, to czasy oczekiwania na kolejny skok są z rozkładu wykładniczego z tym samym parametrem (przedstawić dowód). W związku z tym należy znaleźć momenty tych skoków i różnice między nimi. Otrzymamy prostą próbę losową z rozkładu wykładniczego z parametrem $\\lambda$.\n",
    "\n",
    "Następnie, za pomocą metody momentów oraz największej wiarogodności wyestymujemy porządany parametr."
   ]
  },
  {
   "cell_type": "markdown",
   "metadata": {},
   "source": [
    "### Wektor momentów skoków"
   ]
  },
  {
   "cell_type": "markdown",
   "metadata": {},
   "source": [
    "Trajektoria to pewien wektor przedstawiający kapitał firmy ubezpieczeniowej w pewnym czasie $\\tau$. Oczywiście do momentu wypłaty odszkodowania musi być ona rosnąca. Tym faktem posłużymy się znajdując momenty skoków.\n",
    "\n",
    "Napiszemy algorytm, który zapisze czasy $\\tau^*$, w których nastąpił jakikolwiek spadek w kapitale. Zakładamy przy tym, że trajektoria jest lewostronnie ciągła.\n",
    "\n",
    "Algorytm\n",
    "\n",
    "1. Ustal $\\tau=0$, $h=0.01$, $I = 1$, trajektorię ryzyka $R$ oraz pusty wektor $V.$\n",
    "2. Zwiększ czas $\\tau$ o krok $h$, zwiększ $I$ o jeden.\n",
    "3. Sprawdź, czy firma odnotowała spadek ($R[I] < R[I-1]$). Jeśli tak, wstaw $\\tau$ do wektora $V$. W przeciwnym przypadku kontynuuj.\n",
    "4. Powtarzaj 2-3, dopóki $I < \\#R$.\n",
    "5. Zwróć $V.$"
   ]
  },
  {
   "cell_type": "code",
   "execution_count": 19,
   "metadata": {},
   "outputs": [
    {
     "data": {
      "text/plain": [
       "get_moments (generic function with 1 method)"
      ]
     },
     "execution_count": 19,
     "metadata": {},
     "output_type": "execute_result"
    }
   ],
   "source": [
    "function get_moments(trajectory; h=0.01, T=100)\n",
    "    \n",
    "    t = 0\n",
    "    I = 1\n",
    "    V = []\n",
    "    k = length(trajectory)\n",
    "    \n",
    "    while I < k\n",
    "        \n",
    "        t += h\n",
    "        I += 1\n",
    "        \n",
    "        if trajectory[I] < trajectory[I-1]\n",
    "            push!(V, t)\n",
    "        else\n",
    "            continue\n",
    "        end\n",
    "\n",
    "    end\n",
    "    \n",
    "    return V\n",
    "\n",
    "end"
   ]
  },
  {
   "cell_type": "code",
   "execution_count": 20,
   "metadata": {},
   "outputs": [
    {
     "data": {
      "text/plain": [
       "get_times_from_trajectories (generic function with 1 method)"
      ]
     },
     "execution_count": 20,
     "metadata": {},
     "output_type": "execute_result"
    }
   ],
   "source": [
    "function get_times_from_trajectories(matrix)\n",
    "    X = []\n",
    "    n = length(matrix[:,1])\n",
    "    for i in 1:n\n",
    "        append!(X, get_waiting_times(get_moments(matrix[i,:])))\n",
    "    end\n",
    "    \n",
    "    return X\n",
    "    \n",
    "end"
   ]
  },
  {
   "cell_type": "markdown",
   "metadata": {},
   "source": [
    "### Generator"
   ]
  },
  {
   "cell_type": "code",
   "execution_count": 21,
   "metadata": {},
   "outputs": [
    {
     "data": {
      "text/plain": [
       "get_waiting_times (generic function with 1 method)"
      ]
     },
     "execution_count": 21,
     "metadata": {},
     "output_type": "execute_result"
    }
   ],
   "source": [
    "function get_waiting_times(Moments)\n",
    "    \n",
    "    k = length(Moments)\n",
    "    Times = zeros(k-1)\n",
    "    \n",
    "    j = 1\n",
    "    s = 0\n",
    "    \n",
    "    Times[1] = Moments[1]\n",
    "    \n",
    "    for j in 2:k-1\n",
    "        \n",
    "        Times[j] = Moments[j] - Moments[j-1]\n",
    "        j += 1\n",
    "        \n",
    "    end\n",
    "    \n",
    "    return Times\n",
    "    \n",
    "end"
   ]
  },
  {
   "cell_type": "markdown",
   "metadata": {},
   "source": [
    "### Estymator parametru $\\lambda$ "
   ]
  },
  {
   "cell_type": "code",
   "execution_count": 22,
   "metadata": {},
   "outputs": [
    {
     "data": {
      "text/plain": [
       "estimator_λ (generic function with 1 method)"
      ]
     },
     "execution_count": 22,
     "metadata": {},
     "output_type": "execute_result"
    }
   ],
   "source": [
    "function estimator_λ(Times)\n",
    "    \n",
    "    return length(Times)/sum(Times)\n",
    "    \n",
    "end"
   ]
  },
  {
   "cell_type": "markdown",
   "metadata": {},
   "source": [
    "## Rozkład wypłat odszkodowań\n",
    "\n",
    "Pomysł: Postąpimy podobnie jak w przypadku szacowania parametru intensywności procesu Poissona. Tym razem zapiszemy jednak różnicę w wartości kapitału firmy."
   ]
  },
  {
   "cell_type": "markdown",
   "metadata": {},
   "source": [
    "### Wektor $X_i$\n",
    "\n",
    "Algorytm\n",
    "\n",
    "1. Ustal $I = 1$, trajektorię ryzyka $R$ oraz pusty wektor $X.$\n",
    "2. Zwiększ $I$ o jeden.\n",
    "3. Wyznacz $\\Delta R = R[I-1] - R[I]$.\n",
    "3. Jeśli $\\Delta R >= 0$, wstaw wynik do wektora $V$.\n",
    "4. Powtarzaj 2-3, dopóki $I < \\#R$.\n",
    "5. Zwróć $X.$"
   ]
  },
  {
   "cell_type": "code",
   "execution_count": 23,
   "metadata": {},
   "outputs": [
    {
     "data": {
      "text/plain": [
       "get_pays (generic function with 1 method)"
      ]
     },
     "execution_count": 23,
     "metadata": {},
     "output_type": "execute_result"
    }
   ],
   "source": [
    "function get_pays(trajectory)\n",
    "    \n",
    "    I = 1\n",
    "    X = []\n",
    "    k = length(trajectory)\n",
    "    \n",
    "    while I < k\n",
    "\n",
    "        I += 1\n",
    "        ΔR = trajectory[I-1] - trajectory[I] \n",
    "        if ΔR>=0\n",
    "            push!(X, ΔR)\n",
    "        else\n",
    "            continue\n",
    "        end\n",
    "\n",
    "    end\n",
    "    \n",
    "    return X\n",
    "\n",
    "end"
   ]
  },
  {
   "cell_type": "code",
   "execution_count": 24,
   "metadata": {},
   "outputs": [
    {
     "data": {
      "text/plain": [
       "get_pays_from_trajectories (generic function with 1 method)"
      ]
     },
     "execution_count": 24,
     "metadata": {},
     "output_type": "execute_result"
    }
   ],
   "source": [
    "function get_pays_from_trajectories(matrix)\n",
    "    X = []\n",
    "    n = length(matrix[:,1])\n",
    "    for i in 1:n\n",
    "        append!(X, get_pays(matrix[i,:]))\n",
    "    end\n",
    "    \n",
    "    return X\n",
    "    \n",
    "end"
   ]
  },
  {
   "cell_type": "markdown",
   "metadata": {},
   "source": [
    "### Importuj trajektorie"
   ]
  },
  {
   "cell_type": "code",
   "execution_count": 25,
   "metadata": {},
   "outputs": [
    {
     "data": {
      "text/plain": [
       "PyObject <function load_pickle at 0x000000005E0CC790>"
      ]
     },
     "execution_count": 25,
     "metadata": {},
     "output_type": "execute_result"
    }
   ],
   "source": [
    "py\"\"\"\n",
    "import pickle\n",
    " \n",
    "def load_pickle(fpath):\n",
    "    with open(fpath, \"rb\") as f:\n",
    "        data = pickle.load(f)\n",
    "    return data\n",
    "\"\"\"\n",
    "\n",
    "load_pickle = py\"load_pickle\""
   ]
  },
  {
   "cell_type": "code",
   "execution_count": 26,
   "metadata": {},
   "outputs": [
    {
     "data": {
      "text/plain": [
       "50×10001 Matrix{Float64}:\n",
       " 50.0  50.1875  50.375   50.5625  …  416.741  416.929  417.116  417.304\n",
       " 50.0  50.1875  50.375   50.5625     274.982  275.169  275.357  275.544\n",
       " 50.0  50.1875  50.375   50.5625     235.499  235.687  235.874  236.062\n",
       " 50.0  50.1875  50.375   36.1198     245.128  245.316  245.503  245.691\n",
       " 50.0  50.1875  50.375   50.5625     335.434  335.621  335.809  326.1\n",
       " 50.0  39.0528  39.2403  39.4278  …  453.733  453.921  454.108  454.296\n",
       " 50.0  50.1875  50.375   50.5625     526.431  526.619  526.806  526.994\n",
       " 50.0  50.1875  50.375   50.5625     693.937  694.124  694.312  694.499\n",
       " 50.0  50.1875  50.375   50.5625     354.827  355.014  355.202  355.389\n",
       " 50.0  50.1875  50.375   50.5625     579.662  579.849  580.037  580.224\n",
       " 50.0  50.1875  50.375   50.5625  …  702.636  702.823  703.011  703.198\n",
       " 50.0  50.1875  33.7496  33.9371     207.181  207.368  207.556  207.743\n",
       " 50.0  50.1875  50.375   50.5625     410.44   410.627  410.815  411.002\n",
       "  ⋮                               ⋱                               ⋮\n",
       " 50.0  50.1875  50.375   50.5625     576.888  577.075  577.263  577.45\n",
       " 50.0  50.1875  50.375   50.5625     441.504  441.691  441.879  442.066\n",
       " 50.0  50.1875  50.375   50.5625  …  657.713  657.9    658.088  658.275\n",
       " 50.0  50.1875  50.375   50.5625     399.689  399.876  400.064  400.251\n",
       " 50.0  50.1875  50.375   50.5625     129.514  129.702  129.889  130.077\n",
       " 50.0  50.1875  50.375   50.5625     681.76   681.947  682.135  682.322\n",
       " 50.0  50.1875  50.375   50.5625     605.929  606.116  606.304  606.491\n",
       " 50.0  50.1875  50.375   50.5625  …  189.31   189.497  189.685  189.872\n",
       " 50.0  50.1875  50.375   50.5625     292.685  292.872  293.06   293.247\n",
       " 50.0  50.1875  50.375   50.5625     454.966  455.153  455.341  455.528\n",
       " 50.0  50.1875  50.375   50.5625     274.457  274.644  274.832  275.019\n",
       " 50.0  50.1875  50.375   50.5625     258.937  259.124  259.312  259.499"
      ]
     },
     "execution_count": 26,
     "metadata": {},
     "output_type": "execute_result"
    }
   ],
   "source": [
    "trajectories = load_pickle(\"zestaw23.p\")"
   ]
  },
  {
   "cell_type": "code",
   "execution_count": 27,
   "metadata": {},
   "outputs": [
    {
     "data": {
      "text/plain": [
       "7289-element Vector{Any}:\n",
       "  4.004463717447408\n",
       "  8.795070331404332\n",
       " 18.768288397303223\n",
       "  6.38123033910297\n",
       "  1.2582251613792153\n",
       " 32.67000636505698\n",
       " 13.150728296393225\n",
       "  3.2905972664473637\n",
       "  1.4269458946803155\n",
       "  0.5358526016019596\n",
       "  3.8228812320395917\n",
       "  2.739119185437616\n",
       " 13.78863806881077\n",
       "  ⋮\n",
       " 12.582367538509743\n",
       "  7.5817403000769445\n",
       " 18.464297223357335\n",
       " 40.36332627403476\n",
       " 11.019648459679729\n",
       "  5.290798799540198\n",
       "  6.834277084287123\n",
       " 19.15011588728362\n",
       "  9.289293168463246\n",
       "  5.5656469565067255\n",
       "  9.160510271665999\n",
       " 30.41099893881801"
      ]
     },
     "execution_count": 27,
     "metadata": {},
     "output_type": "execute_result"
    }
   ],
   "source": [
    "X = get_pays_from_trajectories(trajectories)"
   ]
  },
  {
   "cell_type": "code",
   "execution_count": 28,
   "metadata": {},
   "outputs": [
    {
     "data": {
      "text/plain": [
       "7239-element Vector{Any}:\n",
       " 0.46000000000000024\n",
       " 0.44000000000000034\n",
       " 0.2100000000000002\n",
       " 0.6400000000000006\n",
       " 1.1099999999999817\n",
       " 0.049999999999998934\n",
       " 0.5699999999999878\n",
       " 0.12999999999999723\n",
       " 0.20999999999999552\n",
       " 0.6499999999999866\n",
       " 0.33999999999999275\n",
       " 0.20999999999999552\n",
       " 2.3299999999999503\n",
       " ⋮\n",
       " 0.3600000000001842\n",
       " 0.260000000000133\n",
       " 0.5300000000002711\n",
       " 0.9900000000005065\n",
       " 1.4500000000007418\n",
       " 1.0200000000005218\n",
       " 0.1800000000000921\n",
       " 2.140000000001095\n",
       " 0.2500000000001279\n",
       " 1.210000000000619\n",
       " 0.1900000000000972\n",
       " 0.3700000000001893"
      ]
     },
     "execution_count": 28,
     "metadata": {},
     "output_type": "execute_result"
    }
   ],
   "source": [
    "N = get_times_from_trajectories(trajectories)"
   ]
  },
  {
   "cell_type": "code",
   "execution_count": 29,
   "metadata": {},
   "outputs": [
    {
     "data": {
      "text/plain": [
       "0.00999999999999801"
      ]
     },
     "execution_count": 29,
     "metadata": {},
     "output_type": "execute_result"
    }
   ],
   "source": [
    "minimum(N)"
   ]
  },
  {
   "cell_type": "code",
   "execution_count": 30,
   "metadata": {},
   "outputs": [
    {
     "data": {
      "text/plain": [
       "6.730000000003443"
      ]
     },
     "execution_count": 30,
     "metadata": {},
     "output_type": "execute_result"
    }
   ],
   "source": [
    "maximum(N)"
   ]
  },
  {
   "cell_type": "markdown",
   "metadata": {},
   "source": [
    "### Wizualizacja danych"
   ]
  },
  {
   "cell_type": "code",
   "execution_count": 31,
   "metadata": {},
   "outputs": [],
   "source": [
    "histogram(X, normalize=true, legend=false, xlabel=\"wielkość wypłaty\", ylabel=\"częstość\")\n",
    "savefig(\"histogram_wypłat.pdf\")"
   ]
  },
  {
   "cell_type": "code",
   "execution_count": 32,
   "metadata": {},
   "outputs": [],
   "source": [
    "histogram(N, normalize=true, xlabel=\"czas oczekiwania\", ylabel=\"częstość\", legend=false)\n",
    "savefig(\"histogram_czasów.pdf\")"
   ]
  },
  {
   "cell_type": "markdown",
   "metadata": {},
   "source": [
    "### Oszacowanie parametru $\\mu$ rozkładu $X_i$"
   ]
  },
  {
   "cell_type": "code",
   "execution_count": 33,
   "metadata": {},
   "outputs": [
    {
     "data": {
      "text/plain": [
       "0.09901122812369685"
      ]
     },
     "execution_count": 33,
     "metadata": {},
     "output_type": "execute_result"
    }
   ],
   "source": [
    "μ = estimator_λ(X)"
   ]
  },
  {
   "cell_type": "markdown",
   "metadata": {},
   "source": [
    "### Oszacowanie intensywności $\\lambda$ procesu $N(t)$"
   ]
  },
  {
   "cell_type": "code",
   "execution_count": 34,
   "metadata": {},
   "outputs": [
    {
     "data": {
      "text/plain": [
       "1.4681753373312858"
      ]
     },
     "execution_count": 34,
     "metadata": {},
     "output_type": "execute_result"
    }
   ],
   "source": [
    "λ = estimator_λ(N)"
   ]
  },
  {
   "cell_type": "markdown",
   "metadata": {},
   "source": [
    "### Test Kołmogorowa-Smirnova"
   ]
  },
  {
   "cell_type": "markdown",
   "metadata": {},
   "source": [
    "Test KS jest naturalny w użyciu. Jeżeli próbka pochodzi z jakiegoś rozkładu, to jej dystrybuanta empiryczna nie powinna się za bardzo różnić od teoretycznej. W związku z tym będziemy badać maksymalną odległość pomiędzy tymi dwoma funkcjami. Jeżeli będzie za duża - odrzucimy pomysł i zastanowimy się nad następnym. \n",
    "\n",
    "W związku z powyższym użyjemy statystyki\n",
    "\n",
    "$$D_n = \\max_x|F_n(x)-F(x)|,$$\n",
    "\n",
    "gdzie:\n",
    "\n",
    "- $F_n(x)$ - dystrybuanta empiryczna pewnej próby losowej $X$,\n",
    "- $F(x)$ - teoretyczna dystrybuanta sprawdzanego rozkładu.\n",
    "\n",
    "Można pokazać, że dla $n\\rightarrow\\infty$\n",
    "\n",
    "$$\\sqrt{n}D_n \\rightarrow \\sup_t|B(F(t))|,$$\n",
    "\n",
    "gdzie $B$ to most Browna. Ponadto, jeśli $F$ jest ciągła, to $$\\sup_t|B(F(t))|=\\sup_{t\\in[0,1]}|B(F(t))|$$.\n",
    "Wtedy mamy do czynienia z rozkładem Kołmogorowa, niezależnym od $F$.\n",
    "\n",
    "Pokażemy, że $D_n$ można zapisać w postaci $\\max_j \\{D^{+}, D^{-}\\}$, gdzie:\n",
    "\n",
    "- $D^{+} = \\max_j\\{\\frac{j}{n} - Z_j\\}$,\n",
    "- $D^{-} = \\max_j\\{Z_j - \\frac{j-1}{n}\\}$.\n",
    "\n",
    "DOWÓD.\n",
    "\n",
    "Algorytm:\n",
    "\n",
    "1. Ustal próbę losową $X$ o długości $n$.\n",
    "2. Posortuj rosnąco $X$.\n",
    "3. Wyznacz zbiór $Z = \\{F(X_i), i = 1, 2, ..., n\\}$ dla $X_i \\in X$.\n",
    "4. Oblicz $D^{+}$ oraz $D^{-}$\n",
    "5. Zwróć $\\max_j \\{D^{+}, D^{-}\\}$"
   ]
  },
  {
   "cell_type": "code",
   "execution_count": 35,
   "metadata": {},
   "outputs": [
    {
     "data": {
      "text/plain": [
       "Dn (generic function with 2 methods)"
      ]
     },
     "execution_count": 35,
     "metadata": {},
     "output_type": "execute_result"
    }
   ],
   "source": [
    "function Dn(sample, d=Exponential(1/μ))\n",
    "    n = length(sample)\n",
    "    Z = cdf(d, sort(sample))\n",
    "    \n",
    "    D_p = zeros(n)\n",
    "    D_m = zeros(n)\n",
    "    \n",
    "    for j in 1:n\n",
    "        \n",
    "        D_p[j] = abs(j/n - Z[j])\n",
    "        D_m[j] = abs(Z[j] - (j-1)/n)\n",
    "        \n",
    "    end\n",
    "    return sqrt(n)*maximum([maximum(D_p), maximum(D_m)])\n",
    "    \n",
    "end"
   ]
  },
  {
   "cell_type": "code",
   "execution_count": 36,
   "metadata": {},
   "outputs": [
    {
     "data": {
      "text/plain": [
       "0.9153179009882341"
      ]
     },
     "execution_count": 36,
     "metadata": {},
     "output_type": "execute_result"
    }
   ],
   "source": [
    "z= Dn(X)"
   ]
  },
  {
   "cell_type": "code",
   "execution_count": 37,
   "metadata": {},
   "outputs": [],
   "source": [
    "Y = (1:length(X)) ./ length(X)\n",
    "xs = 0:maximum(X)/length(X):maximum(X)\n",
    "ys = [cdfexponential(t, μ) for t in xs]\n",
    "plot(sort(X), Y, xlabel=\"wielkość wypłaty\", ylabel=\"wartość dystrybuanty\", label=\"dystrybuanta empiryczna\", legend=:bottomright)\n",
    "plot!(xs, ys, label=\"dystrybuanta teoretyczna\")\n",
    "savefig(\"Porównanie_dystrybuant.pdf\")"
   ]
  },
  {
   "cell_type": "markdown",
   "metadata": {},
   "source": [
    "### Wartość krytyczna"
   ]
  },
  {
   "cell_type": "markdown",
   "metadata": {},
   "source": [
    "dla $\\alpha = 0.05$ jest równa $q = 1.094$"
   ]
  },
  {
   "cell_type": "markdown",
   "metadata": {},
   "source": [
    "### p-wartość"
   ]
  },
  {
   "cell_type": "markdown",
   "metadata": {},
   "source": [
    "Obliczymy p-wartość symulacyjnie. Niestety, nie znamy dokładnych wartości parametru pożądanego rozkładu, więc za każdym razem będziemy musieli je estymować.\n",
    "\n",
    "Plan jest taki, aby generować $l$ prób z rozkładu wykładniczego $Exp(\\mu)$ i sprawdzić, ile razy zajdzie nierówność:\n",
    "\n",
    "$$P(D \\ge z),$$\n",
    "\n",
    "gdzie $z$ to nasza statystyka testowa z pierwotnej próby.\n",
    "\n",
    "Algorytm:\n",
    "\n",
    "\n",
    "1. Wyestymuj parametr $\\mu$ rozkładu wykładniczego.\n",
    "2. Wyznacz statystykę testową $z$ z pierwotnej próby.\n",
    "3. Ustal $n$ (długość próby) oraz $s = 0$.\n",
    "4. Generuj $X \\sim Exp(\\mu)$ o długości $n$.\n",
    "5. Wyestymuj $\\lambda$.\n",
    "6. Wyznacz statystykę $D$ za pomocą $X$.\n",
    "7. Sprawdź, czy zachodzi $D \\ge z$. Jeśli tak, zwiększ $s$ o jeden.\n",
    "8. Powtarzaj 4-7 $l$ razy.\n",
    "9. Zwróć $P = \\frac{s}{l}$."
   ]
  },
  {
   "cell_type": "code",
   "execution_count": 38,
   "metadata": {},
   "outputs": [
    {
     "data": {
      "text/plain": [
       "get_pvalue (generic function with 3 methods)"
      ]
     },
     "execution_count": 38,
     "metadata": {},
     "output_type": "execute_result"
    }
   ],
   "source": [
    "function get_pvalue(μ, z, n=1000, l=10000)\n",
    "    \n",
    "    s = 0\n",
    "    λ = 1/μ\n",
    "    for i in 1:l\n",
    "        \n",
    "        X = rand(Exponential(λ), n)\n",
    "        γ = estimator_λ(X)\n",
    "        check = Dn(X, Exponential(1/γ))\n",
    "        if check >= z\n",
    "                \n",
    "            s+= 1\n",
    "        end\n",
    "        \n",
    "    end\n",
    "    \n",
    "    return s/l\n",
    "    \n",
    "end"
   ]
  },
  {
   "cell_type": "code",
   "execution_count": 39,
   "metadata": {},
   "outputs": [
    {
     "data": {
      "text/plain": [
       "0.1614"
      ]
     },
     "execution_count": 39,
     "metadata": {},
     "output_type": "execute_result"
    }
   ],
   "source": [
    "get_pvalue(μ, z, 7000, 10000)"
   ]
  },
  {
   "cell_type": "markdown",
   "metadata": {},
   "source": [
    "### Test Andersona-Darlinga"
   ]
  },
  {
   "cell_type": "markdown",
   "metadata": {},
   "source": [
    "Test AD jest bardziej odporną na odstępstwa w ogonach rozkładu wersją testu Craméra-von Misesa (odwołać się),\n",
    "którego statystyka jest dana wzorem:\n",
    "\n",
    "$$n\\int_{-\\infty}^{+\\infty} \\frac{(F_n(x) - F(x))^2}{F(x)(1-F(x))}dF(x),$$\n",
    "\n",
    "gdzie:\n",
    "\n",
    "- $n$ - długość próby,\n",
    "- $F_n(x)$ - wartość dystrybuanty empirycznej w punkcie x,\n",
    "- $F(x)$ - wartość dystrybuanty testowanego rozkładu w punkcie x.\n",
    "\n",
    "Do obliczenia tej statystyki będziemy używać jednak innej wersji tego wzoru (odwołać się):\n",
    "\n",
    "$$A^2 = (2i-1)\\cdot log(Z_i) + (2n+1-2i)\\cdot log(1-Z_i),$$\n",
    "\n",
    "gdzie $Z$ jest posortowanym zbiór $\\{F(X_i), i=1,2,..,n\\}$. $X_i$ to kolejne elementy naszej próby losowej.\n",
    "Ponieważ dysponujemy wyjątkowo dużą próbą, nie musimy nanosić żadnych poprawek na wartość tej statystyki.\n",
    "\n",
    "Algorytm:\n",
    "\n",
    "1. Wyznacz próbę losową $X$ oraz zakładany rozkład.\n",
    "2. Jeśli znasz jego parametry, przejdź do kroku 3. W przeciwnym razie wyestymuj je.\n",
    "3. Wyznacz posegregowany zbiór wartości dystrybuanty zakładanego rozkładu $Z$ za pomocą próby losowej $X$.\n",
    "4. Oblicz $A^2$."
   ]
  },
  {
   "cell_type": "code",
   "execution_count": 40,
   "metadata": {},
   "outputs": [
    {
     "data": {
      "text/plain": [
       "A (generic function with 2 methods)"
      ]
     },
     "execution_count": 40,
     "metadata": {},
     "output_type": "execute_result"
    }
   ],
   "source": [
    "function A(Sample, d=Normal(200, 35))\n",
    "    n = length(Sample)\n",
    "    Z = sort(cdf(d, Sample))\n",
    "  \n",
    "    s = 0\n",
    "    \n",
    "    for i in 1:n\n",
    "        s += (2*i-1)*log(Z[i]) + (2*n+1-2*i)*log(1-Z[i])\n",
    "    end\n",
    "\n",
    "    return -n - s/n\n",
    "end"
   ]
  },
  {
   "cell_type": "markdown",
   "metadata": {},
   "source": [
    "### p-wartość\n",
    "\n",
    "Obliczymy p-wartość symulacyjnie. Niestety, nie znamy dokładnych wartości parametru pożądanego rozkładu, więc za każdym razem będziemy musieli je estymować.\n",
    "\n",
    "Plan jest taki, aby generować $l$ prób z rozkładu wykładniczego $Exp(\\mu)$ i sprawdzić, ile razy zajdzie nierówność:\n",
    "\n",
    "$$P(A^2 \\ge z),$$\n",
    "\n",
    "gdzie $z$ to nasza statystyka testowa z pierwotnej próby.\n",
    "\n",
    "Algorytm:\n",
    "\n",
    "\n",
    "1. Wyestymuj parametr $\\mu$ rozkładu wykładniczego.\n",
    "2. Wyznacz statystykę testową $z$ z pierwotnej próby.\n",
    "3. Ustal $n$ (długość próby) oraz $s = 0$.\n",
    "4. Generuj $X \\sim Exp(\\mu)$ o długości $n$.\n",
    "5. Wyestymuj $\\lambda$.\n",
    "6. Wyznacz statystykę $A^2$ za pomocą $X$.\n",
    "7. Sprawdź, czy zachodzi $A^2 \\ge z$. Jeśli tak, zwiększ $s$ o jeden.\n",
    "8. Powtarzaj 4-7 $l$ razy.\n",
    "9. Zwróć $P = \\frac{s}{l}$."
   ]
  },
  {
   "cell_type": "code",
   "execution_count": 41,
   "metadata": {},
   "outputs": [
    {
     "data": {
      "text/plain": [
       "get_pvalue (generic function with 3 methods)"
      ]
     },
     "execution_count": 41,
     "metadata": {},
     "output_type": "execute_result"
    }
   ],
   "source": [
    "function get_pvalue(μ, z, n=1000, l=10000)\n",
    "    \n",
    "    s = 0\n",
    "    λ = 1/μ\n",
    "    for i in 1:l\n",
    "        \n",
    "        X = rand(Exponential(λ), n)\n",
    "        γ = estimator_λ(X)\n",
    "        check = A(X, Exponential(1/γ))\n",
    "        if check >= z\n",
    "                \n",
    "            s+= 1\n",
    "        end\n",
    "        \n",
    "    end\n",
    "    \n",
    "    return s/l\n",
    "    \n",
    "end"
   ]
  },
  {
   "cell_type": "code",
   "execution_count": 42,
   "metadata": {},
   "outputs": [
    {
     "data": {
      "text/plain": [
       "0.1517"
      ]
     },
     "execution_count": 42,
     "metadata": {},
     "output_type": "execute_result"
    }
   ],
   "source": [
    "get_pvalue(μ, z, 7000, 10000)"
   ]
  },
  {
   "cell_type": "code",
   "execution_count": 43,
   "metadata": {},
   "outputs": [
    {
     "data": {
      "text/plain": [
       "1.0243430526115844"
      ]
     },
     "execution_count": 43,
     "metadata": {},
     "output_type": "execute_result"
    }
   ],
   "source": [
    "z = A(X, Exponential(1/μ))"
   ]
  },
  {
   "cell_type": "markdown",
   "metadata": {},
   "source": [
    "- wartość statystyki testowej $z = 1.024.$\n",
    "- wartość krytyczna $\\theta$ = $1.321$ dla $\\alpha = 0.05$\n",
    "- $p$-wartość$ = 0.109$\n",
    "\n",
    "Wniosek: Brak podstaw do odrzucenia $H_0$."
   ]
  },
  {
   "cell_type": "markdown",
   "metadata": {},
   "source": [
    "### Wysokość premii"
   ]
  },
  {
   "cell_type": "markdown",
   "metadata": {},
   "source": [
    "Premię wyznaczymy na dwa sposoby. Najpierw bardziej uniwersalnym, działającym nie tylko w przypadku klasycznego procesu ryzyka, a potem korzystając właśnie z tego faktu.\n",
    "\n",
    "Policzmy średnią wartość straty procesu w punkcie $t$\n",
    "\n",
    "$$E(\\sum_{i=1}^{N(t)}X_i) = E(E(\\sum_{i=1}^{N(t)}X_i|N(t))=E(\\mu N(t)) = \\mu \\lambda t.$$\n",
    "\n",
    "Gdyby przyjąć $ct = \\mu \\lambda t$, to otrzymalibyśmy martyngał - średnio firma utrzymywałaby stały kapitał, tzn. zarabiałaby średnio tyle, aby pokryć koszty powiązane z wypłatami odszkodowań. Ponieważ zakład ubezpieczeniowy powinien się rozwijać, to ostatecznie premię zapiszmy w postaci\n",
    "\n",
    "$$ct = (1+\\theta)\\mu \\lambda t$$,\n",
    "\n",
    "gdzie $\\theta$ to tzw. narzut. Im większy narzut, tym większe zarobki. Interpretujemy ten parametr jako koszt polis ubezpieczeniowych. Oczywiście zakładamy, że $\\theta > 0$. Prawdopodobnie narzut nie jest zbyt wysoki - nikt by wtedy tak drogiej polisy nie wykupił.\n",
    "\n",
    "Docelowo chcemy wyłuskać parametr $\\theta$. Przekształcając powyższe równanie otrzymujemy\n",
    "\n",
    "$$ \\theta = \\frac{c}{\\mu \\lambda} - 1.$$\n",
    "\n",
    "Aby to zrobić, wyznaczymy symulacyjnie średni wzrost kapitału firmy ubezpieczeniowej w czasie. Będzie on postaci $\\theta \\mu \\lambda t$.\n",
    "\n",
    "Ponieważ znamy już $\\mu$ oraz $\\lambda$, to z otrzymanego wyniku łatwo będzie uzyskać $\\theta$."
   ]
  },
  {
   "cell_type": "code",
   "execution_count": 44,
   "metadata": {},
   "outputs": [
    {
     "data": {
      "text/plain": [
       "get_mean (generic function with 1 method)"
      ]
     },
     "execution_count": 44,
     "metadata": {},
     "output_type": "execute_result"
    }
   ],
   "source": [
    "function get_mean(trajectories::Matrix)\n",
    "    \n",
    "    n = length(trajectories[1, :])\n",
    "    m = length(trajectories[:, 1])\n",
    "    Means = zeros(n)\n",
    "    \n",
    "    for index in 1:m\n",
    "        Means += trajectories[index, :]\n",
    "    end\n",
    "    \n",
    "    return Means ./ m\n",
    "    \n",
    "end\n",
    "    "
   ]
  },
  {
   "cell_type": "code",
   "execution_count": 45,
   "metadata": {},
   "outputs": [
    {
     "data": {
      "text/plain": [
       "10001-element Vector{Float64}:\n",
       "  50.0\n",
       "  49.827365941496545\n",
       "  49.682357497584235\n",
       "  49.58100313021396\n",
       "  49.49785615971196\n",
       "  49.6796067263617\n",
       "  49.8671067263617\n",
       "  50.031360814520525\n",
       "  50.218860814520525\n",
       "  50.31952096299896\n",
       "  49.42970409846479\n",
       "  49.61720409846479\n",
       "  48.60290792909229\n",
       "   ⋮\n",
       " 424.13360131093873\n",
       " 424.09935105104114\n",
       " 424.27614432576746\n",
       " 424.46364432576746\n",
       " 424.6511443257678\n",
       " 424.7277495134533\n",
       " 424.9152495134533\n",
       " 424.89573002672097\n",
       " 424.719829620578\n",
       " 424.907329620578\n",
       " 425.09482962057837\n",
       " 425.08440965608287"
      ]
     },
     "execution_count": 45,
     "metadata": {},
     "output_type": "execute_result"
    }
   ],
   "source": [
    "mean_trajectory = get_mean(trajectories)"
   ]
  },
  {
   "cell_type": "code",
   "execution_count": 46,
   "metadata": {},
   "outputs": [
    {
     "data": {
      "text/plain": [
       "0.0:0.01:100.0"
      ]
     },
     "execution_count": 46,
     "metadata": {},
     "output_type": "execute_result"
    }
   ],
   "source": [
    "xs = 0:h:T"
   ]
  },
  {
   "cell_type": "markdown",
   "metadata": {},
   "source": [
    "#### Regresja liniowa"
   ]
  },
  {
   "cell_type": "code",
   "execution_count": 47,
   "metadata": {},
   "outputs": [
    {
     "data": {
      "text/plain": [
       "PyObject <module 'numpy' from 'C:\\\\Users\\\\EpicPC\\\\.julia\\\\conda\\\\3\\\\lib\\\\site-packages\\\\numpy\\\\__init__.py'>"
      ]
     },
     "execution_count": 47,
     "metadata": {},
     "output_type": "execute_result"
    }
   ],
   "source": [
    "np = pyimport(\"numpy\")"
   ]
  },
  {
   "cell_type": "code",
   "execution_count": 48,
   "metadata": {},
   "outputs": [
    {
     "data": {
      "text/plain": [
       "PyObject <function polyfit at 0x00000000649E5670>"
      ]
     },
     "execution_count": 48,
     "metadata": {},
     "output_type": "execute_result"
    }
   ],
   "source": [
    "polyfit = np.polyfit"
   ]
  },
  {
   "cell_type": "code",
   "execution_count": 49,
   "metadata": {},
   "outputs": [
    {
     "data": {
      "text/plain": [
       "2-element Vector{Float64}:\n",
       "  3.746001609231775\n",
       " 29.686954594543682"
      ]
     },
     "execution_count": 49,
     "metadata": {},
     "output_type": "execute_result"
    }
   ],
   "source": [
    "vec = polyfit(xs, mean_trajectory, 1)"
   ]
  },
  {
   "cell_type": "code",
   "execution_count": 50,
   "metadata": {},
   "outputs": [
    {
     "data": {
      "text/plain": [
       "f (generic function with 1 method)"
      ]
     },
     "execution_count": 50,
     "metadata": {},
     "output_type": "execute_result"
    }
   ],
   "source": [
    "f(x) = vec[1]*x"
   ]
  },
  {
   "cell_type": "code",
   "execution_count": 51,
   "metadata": {},
   "outputs": [
    {
     "data": {
      "text/plain": [
       "2-element Vector{Float64}:\n",
       "  50.0\n",
       " 424.6001609231775"
      ]
     },
     "execution_count": 51,
     "metadata": {},
     "output_type": "execute_result"
    }
   ],
   "source": [
    "ys_mean = [f(t)+50 for t in [0,100]]"
   ]
  },
  {
   "cell_type": "code",
   "execution_count": 52,
   "metadata": {},
   "outputs": [],
   "source": [
    "plot(xs, mean_trajectory, ylim=[0,500], label=\"empiryczna średnia procesu\", color=:red, legend=:topleft)\n",
    "plot!([0, 100], ys_mean, label=\"teoretyczna średnia procesu\", xlabel=\"czas t\", ylabel=\"wartość procesu\", color=:green)\n",
    "savefig(\"\")"
   ]
  },
  {
   "cell_type": "markdown",
   "metadata": {},
   "source": [
    "Więc $$\\theta \\mu \\lambda = 3.746$$\n",
    "\n",
    "Po podstawowych przekształceniach i podstawieniu wartości $\\mu$ oraz $\\lambda$ pokazujemy, że\n",
    "\n",
    "$$\\theta = 25.769$$\n",
    "\n",
    "Ostatecznie $$R(t) = 50 + 3.891t - \\sum_{i=1}^{N(t)}X_i$$"
   ]
  },
  {
   "cell_type": "code",
   "execution_count": 53,
   "metadata": {},
   "outputs": [
    {
     "data": {
      "text/plain": [
       "0.09901122812369685"
      ]
     },
     "execution_count": 53,
     "metadata": {},
     "output_type": "execute_result"
    }
   ],
   "source": [
    "μ"
   ]
  },
  {
   "cell_type": "code",
   "execution_count": 54,
   "metadata": {},
   "outputs": [
    {
     "data": {
      "text/plain": [
       "1.4681753373312858"
      ]
     },
     "execution_count": 54,
     "metadata": {},
     "output_type": "execute_result"
    }
   ],
   "source": [
    "λ"
   ]
  },
  {
   "cell_type": "code",
   "execution_count": 55,
   "metadata": {},
   "outputs": [
    {
     "data": {
      "text/plain": [
       "0.2526239274374162"
      ]
     },
     "execution_count": 55,
     "metadata": {},
     "output_type": "execute_result"
    }
   ],
   "source": [
    "θ= vec[1]*μ/(λ)"
   ]
  },
  {
   "cell_type": "markdown",
   "metadata": {},
   "source": [
    "### 100 trajektorii"
   ]
  },
  {
   "cell_type": "code",
   "execution_count": 56,
   "metadata": {},
   "outputs": [],
   "source": [
    "xs = 0:h:T-h\n",
    "xs1 = 0:h:T\n",
    "ys = risk_process(50, λ=λ, μ=μ, θ=θ)\n",
    "\n",
    "plot(xs, ys, color=:blue, label=\"wiązka trajektorii\", xlabel=\"czas t\", ylabel=\"wartość procesu\")\n",
    "\n",
    "for i in 1:99\n",
    "    plot!(xs, risk_process(50, λ=λ, μ=μ, θ=θ), color=:blue, label=\"\")\n",
    "end\n",
    "plot!(xs1, mean_trajectory, color=:yellow, label=\"średnia procesu z zestawu danych\", linewidth=3)\n",
    "plt = plot!(xs1, trajectories[1,:],color=:red, label=\"Trajektoria z zestawu danych\", legend=:topleft, linewidth=3)\n",
    "savefig(\"100_trajektorii_ryzyka.pdf\")"
   ]
  },
  {
   "cell_type": "markdown",
   "metadata": {},
   "source": [
    "### Porównanie średnich wartości procesu"
   ]
  },
  {
   "cell_type": "code",
   "execution_count": 57,
   "metadata": {},
   "outputs": [
    {
     "data": {
      "text/plain": [
       "get_matrix (generic function with 1 method)"
      ]
     },
     "execution_count": 57,
     "metadata": {},
     "output_type": "execute_result"
    }
   ],
   "source": [
    "function get_matrix(N::Int, u::Real; θ::Float64=0.5, μ::Float64=1.0, λ::Float64=1.0, T::Int=100, h::Float64=0.01)\n",
    "    \n",
    "    k::Int = round(T/h)\n",
    "    Trajectories = zeros(N, k)\n",
    "    \n",
    "    for i in 1:N\n",
    "        Trajectories[i, :] = risk_process(u, θ=θ, μ=μ, λ=λ, T=T, h=h)\n",
    "    end\n",
    "    \n",
    "    return Trajectories\n",
    "    \n",
    "end"
   ]
  },
  {
   "cell_type": "code",
   "execution_count": 58,
   "metadata": {},
   "outputs": [],
   "source": [
    "emp_trajectories = get_matrix(50, 50,θ=θ, μ=μ, λ=λ, T=T, h=h)\n",
    "emp_mean = get_mean(emp_trajectories)\n",
    "\n",
    "plot(xs, emp_mean, legend=:topleft,ylim=[0,450], label=\"średnia empiryczna\", color=:blue, xlabel=\"czas t\", ylabel=\"wartość procesu\")\n",
    "plot!(xs1, mean_trajectory, label=\"średnia z zestawu danych\", color=:red)\n",
    "plot!([0,100], ys_mean, label=\"średnia procesu\",color=:green)\n",
    "savefig(\"Porównanie_średnich_procesu_ryzyka.pdf\")"
   ]
  },
  {
   "cell_type": "markdown",
   "metadata": {},
   "source": [
    "### Prawdopodobieństwo bankructwa w skończonym czasie T"
   ]
  },
  {
   "cell_type": "code",
   "execution_count": 59,
   "metadata": {},
   "outputs": [
    {
     "data": {
      "text/plain": [
       "finite (generic function with 1 method)"
      ]
     },
     "execution_count": 59,
     "metadata": {},
     "output_type": "execute_result"
    }
   ],
   "source": [
    "function finite(N::Int, u::Real; θ::Float64=0.5, μ::Float64=1.0, λ::Float64=1.0, T::Int=100, h::Float64=0.01)\n",
    "    \n",
    "    s = 0\n",
    "    \n",
    "    for i in 1:N\n",
    "        if any(x -> x<=0, risk_process(u, θ=θ, μ=μ, λ=λ, T=T, h=h))\n",
    "            s += 1\n",
    "        end\n",
    "    end\n",
    "    \n",
    "    return s/N\n",
    "        \n",
    "end"
   ]
  },
  {
   "cell_type": "code",
   "execution_count": 60,
   "metadata": {},
   "outputs": [
    {
     "data": {
      "text/plain": [
       "0.2945"
      ]
     },
     "execution_count": 60,
     "metadata": {},
     "output_type": "execute_result"
    }
   ],
   "source": [
    "finite(10000, 50; θ=θ, μ=μ, λ=λ, T=100, h=h)"
   ]
  },
  {
   "cell_type": "code",
   "execution_count": 61,
   "metadata": {},
   "outputs": [
    {
     "ename": "LoadError",
     "evalue": "BoundsError: attempt to access 20000-element Vector{Float64} at index [20001]",
     "output_type": "error",
     "traceback": [
      "BoundsError: attempt to access 20000-element Vector{Float64} at index [20001]",
      "",
      "Stacktrace:",
      " [1] setindex!",
      "   @ .\\array.jl:839 [inlined]",
      " [2] risk_process(u::Int64; θ::Float64, μ::Float64, λ::Float64, T::Int64, h::Float64)",
      "   @ Main .\\In[17]:18",
      " [3] finite(N::Int64, u::Int64; θ::Float64, μ::Float64, λ::Float64, T::Int64, h::Float64)",
      "   @ Main .\\In[59]:6",
      " [4] top-level scope",
      "   @ In[61]:1",
      " [5] eval",
      "   @ .\\boot.jl:360 [inlined]",
      " [6] include_string(mapexpr::typeof(REPL.softscope), mod::Module, code::String, filename::String)",
      "   @ Base .\\loading.jl:1094"
     ]
    }
   ],
   "source": [
    "finite(10000, 50; θ=θ, μ=μ, λ=λ, T=200, h=h)"
   ]
  },
  {
   "cell_type": "markdown",
   "metadata": {},
   "source": [
    "$T = 100$ to $P = 0.2917$\n",
    "\n",
    "\n",
    "$T = 200$ to $P = 0.2886$\n",
    "\n",
    "\n",
    "$T \\rightarrow +\\infty$ to $P = 0.29415$"
   ]
  },
  {
   "cell_type": "markdown",
   "metadata": {},
   "source": [
    "### Prawdopodobieństwo bankructwa w nieskończonym czasie"
   ]
  },
  {
   "cell_type": "markdown",
   "metadata": {},
   "source": [
    "- Wzór Pollaczka-Chinczyna\n",
    "\n",
    "Algorytm:\n",
    "\n",
    "1. Generuj $K \\sim Geom(\\frac{\\theta}{1+\\theta})$\n",
    "2. Generuj $Y_1, Y_2, ..., Y_k$ - $i.i.d$ o gęstości $f(x) = \\frac{1-F_X(x)}{EX}$\n",
    "3. Jeśli $\\sum_{i=1}^{k}Y_i > \\mu$, wstaw $Z(i) = 1$. W przeciwnym wypadku $Z(i) = 0$.\n",
    "4. Powtarzaj kroki 1-3 $N$ razy.\n",
    "5. Zwróć $\\Psi(u) = \\frac{\\sum_{i=1}^{N}Z_i}{N}$\n"
   ]
  },
  {
   "cell_type": "markdown",
   "metadata": {},
   "source": [
    "#### Generowanie zmiennej losowej z rozkładu geometrycznego\n",
    "\n",
    "Algorytm:\n",
    "1. Generuj $U \\sim U(0, 1)$.\n",
    "2. Zwróć $X = \\lceil \\frac{ \\log{U} } { \\log{1-p} } \\rceil$"
   ]
  },
  {
   "cell_type": "code",
   "execution_count": 62,
   "metadata": {},
   "outputs": [
    {
     "data": {
      "text/plain": [
       "geom (generic function with 1 method)"
      ]
     },
     "execution_count": 62,
     "metadata": {},
     "output_type": "execute_result"
    }
   ],
   "source": [
    "function geom(p)\n",
    "    U = rand()\n",
    "    \n",
    "    return ceil(log(U)/log(1-p))\n",
    "end"
   ]
  },
  {
   "cell_type": "code",
   "execution_count": 63,
   "metadata": {},
   "outputs": [
    {
     "data": {
      "text/plain": [
       "infinite (generic function with 1 method)"
      ]
     },
     "execution_count": 63,
     "metadata": {},
     "output_type": "execute_result"
    }
   ],
   "source": [
    "function infinite(u::Int, μ::Float64, θ::Float64; N=10000)\n",
    "    \n",
    "    p = θ/(1+θ)\n",
    "    s = 0\n",
    "    \n",
    "    for i in 1:N\n",
    "        K::Int = rand(Geometric(p))\n",
    "        Ys = rexponential(μ, K)\n",
    "        if sum(Ys) > u\n",
    "            s += 1\n",
    "        end\n",
    "    end\n",
    "    \n",
    "    return s/N\n",
    "    \n",
    "end"
   ]
  },
  {
   "cell_type": "code",
   "execution_count": 64,
   "metadata": {},
   "outputs": [
    {
     "data": {
      "text/plain": [
       "0.29417051"
      ]
     },
     "execution_count": 64,
     "metadata": {},
     "output_type": "execute_result"
    }
   ],
   "source": [
    "infinite(50, μ, θ, N=100000000)"
   ]
  },
  {
   "cell_type": "code",
   "execution_count": 65,
   "metadata": {},
   "outputs": [
    {
     "data": {
      "text/plain": [
       "infinite_theoretical (generic function with 1 method)"
      ]
     },
     "execution_count": 65,
     "metadata": {},
     "output_type": "execute_result"
    }
   ],
   "source": [
    "function infinite_theoretical(u, μ, θ)\n",
    "    \n",
    "    return ℯ^(-μ*u*θ/(1+θ))/(1+θ)\n",
    "    \n",
    "end"
   ]
  },
  {
   "cell_type": "code",
   "execution_count": 66,
   "metadata": {},
   "outputs": [
    {
     "data": {
      "text/plain": [
       "0.294154863265306"
      ]
     },
     "execution_count": 66,
     "metadata": {},
     "output_type": "execute_result"
    }
   ],
   "source": [
    "infinite_theoretical(u, μ, θ)"
   ]
  },
  {
   "cell_type": "code",
   "execution_count": null,
   "metadata": {},
   "outputs": [],
   "source": []
  }
 ],
 "metadata": {
  "kernelspec": {
   "display_name": "Julia 1.6.0",
   "language": "julia",
   "name": "julia-1.6"
  },
  "language_info": {
   "file_extension": ".jl",
   "mimetype": "application/julia",
   "name": "julia",
   "version": "1.6.0"
  }
 },
 "nbformat": 4,
 "nbformat_minor": 4
}
