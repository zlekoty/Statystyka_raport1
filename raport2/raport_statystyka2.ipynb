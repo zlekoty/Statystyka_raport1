{
 "cells": [
  {
   "cell_type": "code",
   "execution_count": 57,
   "metadata": {},
   "outputs": [],
   "source": [
    "df<-read.delim(\"lista7_zad1.txt\",header = F)\n",
    "dane<-(df$V1)            #próba z rozkładu normalnego N(mi,0.2)\n",
    "alfa<-0.05               #poziom istotności\n",
    "sig<-0.2                 #odchylenie standardowe\n",
    "mu<-1.5                  #hipoteza zerowa H0\n",
    "n<-1000                  \n",
    "N<-1000"
   ]
  },
  {
   "cell_type": "code",
   "execution_count": 181,
   "metadata": {},
   "outputs": [],
   "source": [
    "mu1<-1.51"
   ]
  },
  {
   "cell_type": "code",
   "execution_count": 182,
   "metadata": {},
   "outputs": [],
   "source": [
    "#obszary krytyczne\n",
    "z1<-qnorm(1-(alfa/2), 0, 1)    #dla H1: mi1!=1.5  +-\n",
    "z2<-qnorm(1-alfa, 0, 1)        #dla H1: mi1>mi\n",
    "z3<-qnorm(alfa, 0, 1)          #dla H1: mi1<mi"
   ]
  },
  {
   "cell_type": "markdown",
   "metadata": {},
   "source": [
    "# błąd II rodzaju"
   ]
  },
  {
   "cell_type": "code",
   "execution_count": 331,
   "metadata": {},
   "outputs": [],
   "source": [
    "IIrodzaj<-function(N,n,mu1,mu,sig){ \n",
    "#H1: mu1!=1.5\n",
    "ct1<-0\n",
    "for(i in 1:N){\n",
    "    proba<-rnorm(n, mean = mu1, sd = sig)\n",
    "    Z<-(mean(proba)-mu)/(sig/sqrt(n))         #wartość statystyki tesowej Z\n",
    "    if( Z<=-z1 || Z>= z1){ct1<-ct1+1}\n",
    "}\n",
    "#H1: mu1>mi\n",
    "ct2<-0\n",
    "for(i in 1:N){\n",
    "    proba<-rnorm(n, mean = mu1, sd = sig)\n",
    "    Z<-(mean(proba)-mu)/(sig/sqrt(n))\n",
    "    if( Z>=z2){ct2<-ct2+1}\n",
    "}\n",
    "\n",
    "#H1: mu1<1.5\n",
    "ct3<-0\n",
    "v<-c()\n",
    "for(i in 1:N){\n",
    "    proba<-rnorm(n, mean = mu1, sd = sig)\n",
    "    Z<-(mean(proba)-mu)/(sig/sqrt(n))\n",
    "    v[i]=Z\n",
    "    if( Z<=z3){ct3<-ct3+1}\n",
    "}\n",
    "values<-data.frame(\n",
    "    H1=c(\"nier\",\"wiecej\",\"mniej\"),\n",
    "    val=c(ct1/N,ct2/N,ct3/N))\n",
    "values\n",
    "}"
   ]
  },
  {
   "cell_type": "code",
   "execution_count": 332,
   "metadata": {},
   "outputs": [
    {
     "ename": "ERROR",
     "evalue": "Error in data.frame(alfa = c(1.47, 1.48, 1.49, 1.51, 1.52, 1.53), ): brakuje argumentu, a nie ma określonej wartości domyślnej\n",
     "output_type": "error",
     "traceback": [
      "Error in data.frame(alfa = c(1.47, 1.48, 1.49, 1.51, 1.52, 1.53), ): brakuje argumentu, a nie ma określonej wartości domyślnej\nTraceback:\n",
      "1. data.frame(alfa = c(1.47, 1.48, 1.49, 1.51, 1.52, 1.53), )"
     ]
    }
   ],
   "source": [
    "alfas<-c(1.47,1.48,1.49,1.51,1.52,1.53)\n",
    "vec<-data.frame(\n",
    "    alfa = c(1.47,1.48,1.49,1.51,1.52,1.53),)\n",
    "for(mu1 in alfas){\n",
    "    vec<-append(vec,IIrodzaj(N,n,mu1,mu,sig))\n",
    "}"
   ]
  },
  {
   "cell_type": "code",
   "execution_count": 349,
   "metadata": {},
   "outputs": [
    {
     "data": {
      "text/html": [
       "<table>\n",
       "<thead><tr><th scope=col>H1</th><th scope=col>val</th></tr></thead>\n",
       "<tbody>\n",
       "\t<tr><td>nier  </td><td>0.998 </td></tr>\n",
       "\t<tr><td>wiecej</td><td>0.000 </td></tr>\n",
       "\t<tr><td>mniej </td><td>0.998 </td></tr>\n",
       "</tbody>\n",
       "</table>\n"
      ],
      "text/latex": [
       "\\begin{tabular}{r|ll}\n",
       " H1 & val\\\\\n",
       "\\hline\n",
       "\t nier   & 0.998 \\\\\n",
       "\t wiecej & 0.000 \\\\\n",
       "\t mniej  & 0.998 \\\\\n",
       "\\end{tabular}\n"
      ],
      "text/markdown": [
       "\n",
       "| H1 | val |\n",
       "|---|---|\n",
       "| nier   | 0.998  |\n",
       "| wiecej | 0.000  |\n",
       "| mniej  | 0.998  |\n",
       "\n"
      ],
      "text/plain": [
       "  H1     val  \n",
       "1 nier   0.998\n",
       "2 wiecej 0.000\n",
       "3 mniej  0.998"
      ]
     },
     "metadata": {},
     "output_type": "display_data"
    }
   ],
   "source": [
    "IIrodzaj(N,n,1.47,mu,sig)"
   ]
  },
  {
   "cell_type": "code",
   "execution_count": 347,
   "metadata": {},
   "outputs": [
    {
     "data": {
      "text/html": [
       "<dl>\n",
       "\t<dt>$H1</dt>\n",
       "\t\t<dd><ol class=list-inline>\n",
       "\t<li>nier</li>\n",
       "\t<li>wiecej</li>\n",
       "\t<li>mniej</li>\n",
       "</ol>\n",
       "\n",
       "<details>\n",
       "\t<summary style=display:list-item;cursor:pointer>\n",
       "\t\t<strong>Levels</strong>:\n",
       "\t</summary>\n",
       "\t<ol class=list-inline>\n",
       "\t\t<li>'mniej'</li>\n",
       "\t\t<li>'nier'</li>\n",
       "\t\t<li>'wiecej'</li>\n",
       "\t</ol>\n",
       "</details></dd>\n",
       "\t<dt>$val</dt>\n",
       "\t\t<dd><ol class=list-inline>\n",
       "\t<li>0.882</li>\n",
       "\t<li>0.932</li>\n",
       "\t<li>0</li>\n",
       "</ol>\n",
       "</dd>\n",
       "\t<dt>$H1</dt>\n",
       "\t\t<dd><ol class=list-inline>\n",
       "\t<li>nier</li>\n",
       "\t<li>wiecej</li>\n",
       "\t<li>mniej</li>\n",
       "</ol>\n",
       "\n",
       "<details>\n",
       "\t<summary style=display:list-item;cursor:pointer>\n",
       "\t\t<strong>Levels</strong>:\n",
       "\t</summary>\n",
       "\t<ol class=list-inline>\n",
       "\t\t<li>'mniej'</li>\n",
       "\t\t<li>'nier'</li>\n",
       "\t\t<li>'wiecej'</li>\n",
       "\t</ol>\n",
       "</details></dd>\n",
       "\t<dt>$val</dt>\n",
       "\t\t<dd><ol class=list-inline>\n",
       "\t<li>0.887</li>\n",
       "\t<li>0.934</li>\n",
       "\t<li>0</li>\n",
       "</ol>\n",
       "</dd>\n",
       "</dl>\n"
      ],
      "text/latex": [
       "\\begin{description}\n",
       "\\item[\\$H1] \\begin{enumerate*}\n",
       "\\item nier\n",
       "\\item wiecej\n",
       "\\item mniej\n",
       "\\end{enumerate*}\n",
       "\n",
       "\\emph{Levels}: \\begin{enumerate*}\n",
       "\\item 'mniej'\n",
       "\\item 'nier'\n",
       "\\item 'wiecej'\n",
       "\\end{enumerate*}\n",
       "\n",
       "\\item[\\$val] \\begin{enumerate*}\n",
       "\\item 0.882\n",
       "\\item 0.932\n",
       "\\item 0\n",
       "\\end{enumerate*}\n",
       "\n",
       "\\item[\\$H1] \\begin{enumerate*}\n",
       "\\item nier\n",
       "\\item wiecej\n",
       "\\item mniej\n",
       "\\end{enumerate*}\n",
       "\n",
       "\\emph{Levels}: \\begin{enumerate*}\n",
       "\\item 'mniej'\n",
       "\\item 'nier'\n",
       "\\item 'wiecej'\n",
       "\\end{enumerate*}\n",
       "\n",
       "\\item[\\$val] \\begin{enumerate*}\n",
       "\\item 0.887\n",
       "\\item 0.934\n",
       "\\item 0\n",
       "\\end{enumerate*}\n",
       "\n",
       "\\end{description}\n"
      ],
      "text/markdown": [
       "$H1\n",
       ":   1. nier\n",
       "2. wiecej\n",
       "3. mniej\n",
       "\n",
       "\n",
       "\n",
       "**Levels**: 1. 'mniej'\n",
       "2. 'nier'\n",
       "3. 'wiecej'\n",
       "\n",
       "\n",
       "\n",
       "$val\n",
       ":   1. 0.882\n",
       "2. 0.932\n",
       "3. 0\n",
       "\n",
       "\n",
       "\n",
       "$H1\n",
       ":   1. nier\n",
       "2. wiecej\n",
       "3. mniej\n",
       "\n",
       "\n",
       "\n",
       "**Levels**: 1. 'mniej'\n",
       "2. 'nier'\n",
       "3. 'wiecej'\n",
       "\n",
       "\n",
       "\n",
       "$val\n",
       ":   1. 0.887\n",
       "2. 0.934\n",
       "3. 0\n",
       "\n",
       "\n",
       "\n",
       "\n",
       "\n"
      ],
      "text/plain": [
       "$H1\n",
       "[1] nier   wiecej mniej \n",
       "Levels: mniej nier wiecej\n",
       "\n",
       "$val\n",
       "[1] 0.882 0.932 0.000\n",
       "\n",
       "$H1\n",
       "[1] nier   wiecej mniej \n",
       "Levels: mniej nier wiecej\n",
       "\n",
       "$val\n",
       "[1] 0.887 0.934 0.000\n"
      ]
     },
     "metadata": {},
     "output_type": "display_data"
    }
   ],
   "source": [
    "v"
   ]
  },
  {
   "cell_type": "code",
   "execution_count": null,
   "metadata": {},
   "outputs": [],
   "source": []
  },
  {
   "cell_type": "code",
   "execution_count": 187,
   "metadata": {},
   "outputs": [
    {
     "data": {
      "image/png": "[encoded data removed]",
      "text/plain": [
       "plot without title"
      ]
     },
     "metadata": {},
     "output_type": "display_data"
    }
   ],
   "source": [
    "x <- seq(-3, 3, length=1000)\n",
    "y <- dnorm(x, mean = mu1, sd = sig)\n",
    "plot(x,y,type = \"l\")\n",
    "abline(v=z1,col=\"red\")\n",
    "abline(v=-z1,col=\"red\")\n",
    "abline(v=z2,col=\"green\")\n",
    "abline(v=z3,col=\"blue\")\n",
    "legend(-3,2, legend = c(\"mu!=1.5\",\"mu>1.5\",\"mu<1.5\"), col = c(\"red\",\"green\",\"blue\"),lty=1, cex=0.8)"
   ]
  },
  {
   "cell_type": "code",
   "execution_count": 190,
   "metadata": {},
   "outputs": [
    {
     "data": {
      "image/png": "[encoded data removed]",
      "text/plain": [
       "Plot with title \"ecdf(v)\""
      ]
     },
     "metadata": {},
     "output_type": "display_data"
    }
   ],
   "source": [
    "plot(ecdf(v))\n",
    "lines(x,pnorm(x))"
   ]
  },
  {
   "cell_type": "code",
   "execution_count": null,
   "metadata": {},
   "outputs": [],
   "source": []
  },
  {
   "cell_type": "code",
   "execution_count": null,
   "metadata": {},
   "outputs": [],
   "source": []
  }
 ],
 "metadata": {
  "kernelspec": {
   "display_name": "R",
   "language": "R",
   "name": "ir"
  },
  "language_info": {
   "codemirror_mode": "r",
   "file_extension": ".r",
   "mimetype": "text/x-r-source",
   "name": "R",
   "pygments_lexer": "r",
   "version": "3.6.1"
  },
  "toc": {
   "base_numbering": 1,
   "nav_menu": {},
   "number_sections": false,
   "sideBar": true,
   "skip_h1_title": false,
   "title_cell": "Table of Contents",
   "title_sidebar": "Contents",
   "toc_cell": false,
   "toc_position": {},
   "toc_section_display": true,
   "toc_window_display": false
  }
 },
 "nbformat": 4,
 "nbformat_minor": 4
}
