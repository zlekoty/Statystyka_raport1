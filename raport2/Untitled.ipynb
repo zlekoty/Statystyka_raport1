{
 "cells": [
  {
   "cell_type": "code",
   "execution_count": 18,
   "metadata": {},
   "outputs": [],
   "source": [
    "df<-read.delim(\"lista7_zad1.txt\",header = F)\n",
    "dane<-(df$V1)            #próba z rozkładu normalnego N(mi,0.2)\n",
    "alfa<-0.05               #poziom istotności\n",
    "sig<-0.2                 #odchylenie standardowe\n",
    "mu<-1.5                  #hipoteza zerowa H0\n",
    "n<-1000                  #"
   ]
  },
  {
   "cell_type": "markdown",
   "metadata": {},
   "source": [
    "# $\\mu \\ne 1.5$"
   ]
  },
  {
   "cell_type": "code",
   "execution_count": 29,
   "metadata": {},
   "outputs": [],
   "source": [
    "mu1<-1.51\n",
    "proba<-rnorm(n, mean = mu1, sd = sig)\n",
    "Z<-(mean(proba)-mu)/(sig/sqrt(n))     #wartość statystyki tesowej Z"
   ]
  },
  {
   "cell_type": "code",
   "execution_count": 30,
   "metadata": {},
   "outputs": [],
   "source": [
    "#obszary krytyczne\n",
    "z1<-qnorm(1-(alfa/2), 0, 1)    #dla H1: mi1!=1.5  +-\n",
    "z2<-qnorm(1-alfa, 0, 1)        #dla H1: mi1>mi\n",
    "z3<-qnorm(alfa, 0, 1)          #dla H1: mi1<mi"
   ]
  },
  {
   "cell_type": "code",
   "execution_count": null,
   "metadata": {},
   "outputs": [],
   "source": []
  }
 ],
 "metadata": {
  "kernelspec": {
   "display_name": "R",
   "language": "R",
   "name": "ir"
  },
  "language_info": {
   "codemirror_mode": "r",
   "file_extension": ".r",
   "mimetype": "text/x-r-source",
   "name": "R",
   "pygments_lexer": "r",
   "version": "3.6.1"
  },
  "toc": {
   "base_numbering": 1,
   "nav_menu": {},
   "number_sections": false,
   "sideBar": true,
   "skip_h1_title": false,
   "title_cell": "Table of Contents",
   "title_sidebar": "Contents",
   "toc_cell": false,
   "toc_position": {},
   "toc_section_display": true,
   "toc_window_display": false
  }
 },
 "nbformat": 4,
 "nbformat_minor": 4
}
